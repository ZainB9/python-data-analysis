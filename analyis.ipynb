{
 "cells": [
  {
   "cell_type": "code",
   "execution_count": 5,
   "metadata": {},
   "outputs": [],
   "source": [
    "import pandas as pd\n",
    "import networkx as nx\n",
    "import matplotlib.pyplot as plt\n",
    "from ast import literal_eval"
   ]
  },
  {
   "cell_type": "code",
   "execution_count": 6,
   "metadata": {},
   "outputs": [
    {
     "name": "stderr",
     "output_type": "stream",
     "text": [
      "C:\\Users\\Zain\\AppData\\Local\\Temp\\ipykernel_27832\\1852808084.py:1: DtypeWarning: Columns (3) have mixed types. Specify dtype option on import or set low_memory=False.\n",
      "  data=pd.read_csv('Bicycle_Parking.csv')\n"
     ]
    }
   ],
   "source": [
    "data=pd.read_csv('Bicycle_Parking.csv')"
   ]
  },
  {
   "cell_type": "code",
   "execution_count": 14,
   "metadata": {},
   "outputs": [
    {
     "data": {
      "text/plain": [
       "Index(['the_geom', 'BoroCode', 'BoroName', 'BoroCD', 'CounDist', 'AssemDist',\n",
       "       'StSenDist', 'CongDist', 'Program', 'Site_ID', 'Group_ID', 'Borough',\n",
       "       'IFOAddress', 'OnStreet', 'FromStreet', 'ToStreet', 'Side_of_St',\n",
       "       'RackType', 'Date_Inst', 'Latitude', 'Longitude', 'NTAName', 'FEMAFldz',\n",
       "       'FEMAFldT', 'HrcEvac'],\n",
       "      dtype='object')"
      ]
     },
     "execution_count": 14,
     "metadata": {},
     "output_type": "execute_result"
    }
   ],
   "source": [
    "## read headers for columns\n",
    "data.columns\n",
    "#data.head\n",
    "#print(data.columns)\n",
    "\n"
   ]
  },
  {
   "cell_type": "code",
   "execution_count": 20,
   "metadata": {},
   "outputs": [
    {
     "name": "stdout",
     "output_type": "stream",
     "text": [
      "        BoroName  BoroCode BoroCD\n",
      "0      Manhattan         1    110\n",
      "1          Bronx         2    209\n",
      "2      Manhattan         1    111\n",
      "3      Manhattan         1    104\n",
      "4         Queens         4    409\n",
      "...          ...       ...    ...\n",
      "35692  Manhattan         1    107\n",
      "35693      Bronx         2    202\n",
      "35694   Brooklyn         3    313\n",
      "35695     Queens         4    407\n",
      "35696     Queens         4    403\n",
      "\n",
      "[35697 rows x 3 columns]\n"
     ]
    }
   ],
   "source": [
    "#read a row\n",
    "#data.head(5)\n",
    "#data['the_geom']\n",
    "print(data[['BoroName', 'BoroCode', 'BoroCD']])"
   ]
  },
  {
   "cell_type": "code",
   "execution_count": null,
   "metadata": {},
   "outputs": [],
   "source": []
  }
 ],
 "metadata": {
  "kernelspec": {
   "display_name": "Python 3",
   "language": "python",
   "name": "python3"
  },
  "language_info": {
   "codemirror_mode": {
    "name": "ipython",
    "version": 3
   },
   "file_extension": ".py",
   "mimetype": "text/x-python",
   "name": "python",
   "nbconvert_exporter": "python",
   "pygments_lexer": "ipython3",
   "version": "3.10.11"
  }
 },
 "nbformat": 4,
 "nbformat_minor": 2
}
