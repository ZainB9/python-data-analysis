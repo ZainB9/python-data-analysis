{
 "cells": [
  {
   "cell_type": "code",
   "execution_count": 5,
   "metadata": {},
   "outputs": [],
   "source": [
    "import pandas as pd\n",
    "import networkx as nx\n",
    "import matplotlib.pyplot as plt\n",
    "from ast import literal_eval"
   ]
  },
  {
   "cell_type": "code",
   "execution_count": 6,
   "metadata": {},
   "outputs": [
    {
     "name": "stderr",
     "output_type": "stream",
     "text": [
      "C:\\Users\\Zain\\AppData\\Local\\Temp\\ipykernel_27832\\1852808084.py:1: DtypeWarning: Columns (3) have mixed types. Specify dtype option on import or set low_memory=False.\n",
      "  data=pd.read_csv('Bicycle_Parking.csv')\n"
     ]
    }
   ],
   "source": [
    "data=pd.read_csv('Bicycle_Parking.csv')"
   ]
  },
  {
   "cell_type": "code",
   "execution_count": 10,
   "metadata": {},
   "outputs": [
    {
     "data": {
      "text/plain": [
       "Index(['the_geom', 'BoroCode', 'BoroName', 'BoroCD', 'CounDist', 'AssemDist',\n",
       "       'StSenDist', 'CongDist', 'Program', 'Site_ID', 'Group_ID', 'Borough',\n",
       "       'IFOAddress', 'OnStreet', 'FromStreet', 'ToStreet', 'Side_of_St',\n",
       "       'RackType', 'Date_Inst', 'Latitude', 'Longitude', 'NTAName', 'FEMAFldz',\n",
       "       'FEMAFldT', 'HrcEvac'],\n",
       "      dtype='object')"
      ]
     },
     "execution_count": 10,
     "metadata": {},
     "output_type": "execute_result"
    }
   ],
   "source": [
    "data.columns\n",
    "#data.head"
   ]
  },
  {
   "cell_type": "code",
   "execution_count": 11,
   "metadata": {},
   "outputs": [
    {
     "data": {
      "text/plain": [
       "0        POINT (-73.95095856276393 40.810644722626144)\n",
       "1          POINT (-73.8511795939407 40.83204371451954)\n",
       "2         POINT (-73.95145356449481 40.79194072625566)\n",
       "3         POINT (-73.99471155187145 40.76024973355964)\n",
       "4         POINT (-73.85025776526449 40.69421491455799)\n",
       "                             ...                      \n",
       "35692     POINT (-73.96923889207024 40.79807884268785)\n",
       "35693       POINT (-73.890389581557 40.82671071689792)\n",
       "35694       POINT (-73.984714566723 40.57536876953095)\n",
       "35695     POINT (-73.82646960698834 40.75213572967472)\n",
       "35696     POINT (-73.88710058657223 40.75905173009683)\n",
       "Name: the_geom, Length: 35697, dtype: object"
      ]
     },
     "execution_count": 11,
     "metadata": {},
     "output_type": "execute_result"
    }
   ],
   "source": [
    "data.the_geom"
   ]
  },
  {
   "cell_type": "code",
   "execution_count": null,
   "metadata": {},
   "outputs": [],
   "source": []
  }
 ],
 "metadata": {
  "kernelspec": {
   "display_name": "Python 3",
   "language": "python",
   "name": "python3"
  },
  "language_info": {
   "codemirror_mode": {
    "name": "ipython",
    "version": 3
   },
   "file_extension": ".py",
   "mimetype": "text/x-python",
   "name": "python",
   "nbconvert_exporter": "python",
   "pygments_lexer": "ipython3",
   "version": "3.10.11"
  }
 },
 "nbformat": 4,
 "nbformat_minor": 2
}
